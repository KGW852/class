{
 "cells": [
  {
   "cell_type": "code",
   "execution_count": null,
   "id": "812c292a-f7ca-40e1-b256-73860a24574f",
   "metadata": {},
   "outputs": [],
   "source": [
    "import pandas as pd\n",
    "import numpy as np\n",
    "import os\n",
    "\n",
    "path = r'C:\\Users\\KGW\\OneDrive\\수업자료(학부)\\코딩과응용\\Python\\iris data'"
   ]
  },
  {
   "cell_type": "code",
   "execution_count": null,
   "id": "37eb3071-f3c3-48e2-8873-e0700bf154b7",
   "metadata": {},
   "outputs": [],
   "source": [
    "# iris.data 파일을 pandas를 통해 csv파일로 불러오기\n",
    "# header=None 옵션은 파일에서 첫 번째 행을 열 이름으로 사용하지 않도록 사용합니다.\n",
    "iris = pd.read_csv(os.path.join(path, 'iris.data'), header=None)\n",
    "iris.head()"
   ]
  },
  {
   "cell_type": "code",
   "execution_count": null,
   "id": "3f57ffca-2fb7-47e1-b658-31d3f45b9846",
   "metadata": {},
   "outputs": [],
   "source": [
    "print(pd.unique(iris[4]))\n",
    "\n",
    "# 요약 통계 확인하기\n",
    "print(iris[4].describe())"
   ]
  },
  {
   "cell_type": "code",
   "execution_count": null,
   "id": "f5e70881-948b-473c-a6c6-23b87edb35ac",
   "metadata": {},
   "outputs": [],
   "source": [
    "# 열 이름을 '꽃 받침 길이', '꽃받침 너비', '꽃잎 길이', '꽃잎 너비', '꽃 종류'로 변경합니다.\n",
    "iris.columns =['sepal_length', 'sepal_width', 'petal_length', 'petal_width', 'class']\n",
    "\n",
    "# 변경된 열 이름 확인\n",
    "print(iris.head())\n",
    "print(iris.columns)"
   ]
  },
  {
   "cell_type": "code",
   "execution_count": null,
   "id": "ba91534a-2947-4ac5-b250-39cdb0933a2e",
   "metadata": {},
   "outputs": [],
   "source": [
    "# 'class' 열을 맨 앞으로 이동합니다.\n",
    "iris = iris.loc[:, ['class', *iris.columns[:-1]]]\n",
    "\n",
    "# 변경된 열 순서 확인\n",
    "print(iris.columns)"
   ]
  },
  {
   "cell_type": "code",
   "execution_count": null,
   "id": "f4a93577-bf3b-4cd3-a8ca-bbe081e971db",
   "metadata": {},
   "outputs": [],
   "source": [
    "# 'class' 열을 제거합니다.\n",
    "column = iris.pop('class')\n",
    "\n",
    "# 'class' 열을 맨 앞에 삽입합니다.\n",
    "iris.insert(0, 'class', column)\n",
    "\n",
    "# 변경된 열 순서 확인\n",
    "print(iris.columns)"
   ]
  },
  {
   "cell_type": "code",
   "execution_count": null,
   "id": "3748b9e2-7a1b-424a-9c69-ea8d9c395fc1",
   "metadata": {},
   "outputs": [],
   "source": [
    "# 'iris.csv'라는 이름으로 csv 파일을 저장합니다.\n",
    "iris.to_csv(os.path.join(path, 'iris.csv'), index=False)"
   ]
  },
  {
   "cell_type": "code",
   "execution_count": null,
   "id": "855c04cf-720d-4bf2-b986-64d080a91da6",
   "metadata": {},
   "outputs": [],
   "source": [
    "iris = pd.read_csv(os.path.join(path, 'iris.csv'))\n",
    "print(iris[-5:])"
   ]
  },
  {
   "cell_type": "code",
   "execution_count": null,
   "id": "c67ad378-efaa-43b5-8024-bd584ccd2387",
   "metadata": {},
   "outputs": [],
   "source": [
    "class Car:\n",
    "    def __init__(self, brand):\n",
    "        self.brand = brand\n",
    "\n",
    "    def drive(self):\n",
    "        print(\"Driving the\", self.brand)\n",
    "\n",
    "my_car = Car(\"Toyota\")\n",
    "my_car.drive()  # 출력: \"Driving the Toyota\""
   ]
  },
  {
   "cell_type": "code",
   "execution_count": null,
   "id": "07a5e1ad-3033-40c3-b7f2-40755e7e74cd",
   "metadata": {},
   "outputs": [],
   "source": [
    "my_car.drive.Toyota"
   ]
  },
  {
   "cell_type": "code",
   "execution_count": 4,
   "id": "5c644320-a33f-4947-9eed-026a40f5f628",
   "metadata": {},
   "outputs": [
    {
     "name": "stdout",
     "output_type": "stream",
     "text": [
      "10\n"
     ]
    }
   ],
   "source": [
    "dict = {\"key\": 10}\n",
    "\n",
    "# 괄호 표기법\n",
    "print(dict[\"key\"])"
   ]
  },
  {
   "cell_type": "code",
   "execution_count": 5,
   "id": "91550e25-243a-45fc-849b-aadbfce2eae8",
   "metadata": {},
   "outputs": [
    {
     "ename": "AttributeError",
     "evalue": "'dict' object has no attribute 'key'",
     "output_type": "error",
     "traceback": [
      "\u001b[1;31m---------------------------------------------------------------------------\u001b[0m",
      "\u001b[1;31mAttributeError\u001b[0m                            Traceback (most recent call last)",
      "Cell \u001b[1;32mIn[5], line 2\u001b[0m\n\u001b[0;32m      1\u001b[0m \u001b[38;5;66;03m# 점 표기법\u001b[39;00m\n\u001b[1;32m----> 2\u001b[0m \u001b[38;5;28mprint\u001b[39m(\u001b[38;5;28mdict\u001b[39m\u001b[38;5;241m.\u001b[39mkey)\n",
      "\u001b[1;31mAttributeError\u001b[0m: 'dict' object has no attribute 'key'"
     ]
    }
   ],
   "source": [
    "# 점 표기법\n",
    "print(dict.key)"
   ]
  },
  {
   "cell_type": "code",
   "execution_count": 3,
   "id": "e14e3907-162a-44ee-b71a-d4d97a35887a",
   "metadata": {},
   "outputs": [
    {
     "name": "stdout",
     "output_type": "stream",
     "text": [
      "이름: 김두기\n",
      "나이: 40\n",
      "주소: 공주대학교 스마트인프라공학관\n"
     ]
    }
   ],
   "source": [
    "class Person:\n",
    "    def __init__(self, name, age, address):\n",
    "        self.name = name\n",
    "        self.age = age\n",
    "        self.address = address\n",
    "\n",
    "# 인스턴스 생성\n",
    "kim2kie = Person('김두기', 40, '공주대학교 스마트인프라공학관')\n",
    "\n",
    "# 속성 값 출력\n",
    "print('이름:', kim2kie.name)\n",
    "print('나이:', kim2kie.age)\n",
    "print('주소:', kim2kie.address)"
   ]
  },
  {
   "cell_type": "code",
   "execution_count": null,
   "id": "2f7710a1-1075-4635-8f0f-fde72d32b3f7",
   "metadata": {},
   "outputs": [],
   "source": [
    "fruits = {\"apple\": 3, \"banana\": 5, \"orange\": 7}\n",
    "print(fruits['apple'])"
   ]
  },
  {
   "cell_type": "code",
   "execution_count": null,
   "id": "29354647-72a4-43b6-9c30-fd904d1838f9",
   "metadata": {},
   "outputs": [],
   "source": [
    "print(fruits.apple)"
   ]
  },
  {
   "cell_type": "code",
   "execution_count": 1,
   "id": "1686e671-227a-4899-beca-3688b3183f77",
   "metadata": {},
   "outputs": [
    {
     "ename": "NameError",
     "evalue": "name 'np' is not defined",
     "output_type": "error",
     "traceback": [
      "\u001b[1;31m---------------------------------------------------------------------------\u001b[0m",
      "\u001b[1;31mNameError\u001b[0m                                 Traceback (most recent call last)",
      "Cell \u001b[1;32mIn[1], line 1\u001b[0m\n\u001b[1;32m----> 1\u001b[0m np\u001b[38;5;241m.\u001b[39mlinspace(\u001b[38;5;241m1\u001b[39m,\u001b[38;5;241m10\u001b[39m,\u001b[38;5;241m10\u001b[39m)\n",
      "\u001b[1;31mNameError\u001b[0m: name 'np' is not defined"
     ]
    }
   ],
   "source": [
    "np.linspace(1,10,10)"
   ]
  },
  {
   "cell_type": "code",
   "execution_count": 6,
   "id": "3db76423-f30c-473e-87d1-26093806892d",
   "metadata": {},
   "outputs": [
    {
     "name": "stdout",
     "output_type": "stream",
     "text": [
      "덧셈 결과: 15\n",
      "곱셈 결과: 50\n"
     ]
    }
   ],
   "source": [
    "class Calculator:\n",
    "    def __init__(self, a, b):\n",
    "        self.a = a\n",
    "        self.b = b\n",
    "\n",
    "    def add(self):\n",
    "        return self.a + self.b\n",
    "\n",
    "    def multiply(self):\n",
    "        return self.a * self.b\n",
    "\n",
    "# 변수 a, b에 값을 입력합니다.\n",
    "a = 10\n",
    "b = 5\n",
    "\n",
    "# 객체 생성 및 메소드 생성\n",
    "calculator = Calculator(10, 5)\n",
    "sum_result = calculator.add()\n",
    "mul_result = calculator.multiply()\n",
    "\n",
    "# 계산 결과 출력\n",
    "print(f\"덧셈 결과: {sum_result}\")\n",
    "print(f\"곱셈 결과: {mul_result}\")"
   ]
  },
  {
   "cell_type": "code",
   "execution_count": null,
   "id": "fd86b91e-a37e-4853-8d76-17b490b8de1b",
   "metadata": {},
   "outputs": [],
   "source": []
  }
 ],
 "metadata": {
  "kernelspec": {
   "display_name": "Python 3 (ipykernel)",
   "language": "python",
   "name": "python3"
  },
  "language_info": {
   "codemirror_mode": {
    "name": "ipython",
    "version": 3
   },
   "file_extension": ".py",
   "mimetype": "text/x-python",
   "name": "python",
   "nbconvert_exporter": "python",
   "pygments_lexer": "ipython3",
   "version": "3.11.5"
  },
  "widgets": {
   "application/vnd.jupyter.widget-state+json": {
    "state": {},
    "version_major": 2,
    "version_minor": 0
   }
  }
 },
 "nbformat": 4,
 "nbformat_minor": 5
}
