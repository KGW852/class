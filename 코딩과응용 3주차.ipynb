{
 "cells": [
  {
   "attachments": {
    "5446700d-8672-4fc4-93b1-d950586a25c3.png": {
     "image/png": "[encoded data removed]"
    }
   },
   "cell_type": "markdown",
   "id": "de899576-27f9-4d55-acd0-eebe4d771214",
   "metadata": {},
   "source": [
    "![3-12.png](attachment:5446700d-8672-4fc4-93b1-d950586a25c3.png)\n",
    "\n",
    "\n",
    "\n",
    "\n",
    "list = [1, 3, 5, 7, 9, 11, 13, 15, 17, 19]\n",
    "\n",
    "print(list)\n",
    "print(list[0])\n",
    "print(list[-2:])\n",
    "print(list[1:5])\n",
    "print(list[-9:-5])\n",
    "print(list1.index(17))"
   ]
  },
  {
   "cell_type": "code",
   "execution_count": null,
   "id": "87276d8c-bc22-47ba-a6b1-f07808ac3514",
   "metadata": {},
   "outputs": [],
   "source": [
    "list = [1, 3, 5, 7, 9, 11, 13, 15, 17, 19]"
   ]
  },
  {
   "cell_type": "code",
   "execution_count": null,
   "id": "ef7decae-0832-42aa-827b-ecdf4e3d05fa",
   "metadata": {},
   "outputs": [],
   "source": [
    "print(list[0])"
   ]
  },
  {
   "cell_type": "code",
   "execution_count": null,
   "id": "07f56916-dd42-453c-aab3-dcb8b5a2b266",
   "metadata": {},
   "outputs": [],
   "source": [
    "print(list[-2:])"
   ]
  },
  {
   "cell_type": "code",
   "execution_count": null,
   "id": "ba3e9049-e35f-45f9-a358-4290399e4e2e",
   "metadata": {},
   "outputs": [],
   "source": [
    "print(list[1:5])\n",
    "print(list[-9:-5])"
   ]
  },
  {
   "cell_type": "code",
   "execution_count": null,
   "id": "92472197-0442-4c5b-a1fe-af63467de683",
   "metadata": {},
   "outputs": [],
   "source": [
    "print(list1.index(17))"
   ]
  }
 ],
 "metadata": {
  "kernelspec": {
   "display_name": "Python 3 (ipykernel)",
   "language": "python",
   "name": "python3"
  },
  "language_info": {
   "codemirror_mode": {
    "name": "ipython",
    "version": 3
   },
   "file_extension": ".py",
   "mimetype": "text/x-python",
   "name": "python",
   "nbconvert_exporter": "python",
   "pygments_lexer": "ipython3",
   "version": "3.11.5"
  },
  "widgets": {
   "application/vnd.jupyter.widget-state+json": {
    "state": {},
    "version_major": 2,
    "version_minor": 0
   }
  }
 },
 "nbformat": 4,
 "nbformat_minor": 5
}
