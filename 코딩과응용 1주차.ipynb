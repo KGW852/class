{
 "cells": [
  {
   "cell_type": "code",
   "execution_count": 1,
   "id": "a5a9f8c6-7544-4ed1-b71b-1197d0b8f337",
   "metadata": {},
   "outputs": [],
   "source": [
    "import numpy as np\n",
    "import pandas as pd\n",
    "from transformers import AutoTokenizer, AutoModelForSequenceClassification\n",
    "\n",
    "model_name = \"distilbert-base-uncased-finetuned-sst-2-english\"\n",
    "\n",
    "tokenizer = AutoTokenizer.from_pretrained(model_name)\n",
    "model = AutoModelForSequenceClassification.from_pretrained(model_name)"
   ]
  },
  {
   "cell_type": "code",
   "execution_count": 2,
   "id": "eee05ffa-f09f-4598-85ee-5439ac30a107",
   "metadata": {},
   "outputs": [
    {
     "name": "stdout",
     "output_type": "stream",
     "text": [
      "새로운 리뷰 감정 예측: 1\n"
     ]
    }
   ],
   "source": [
    "new_review = \"Every time I go, it's full. Coffee is delicious too, As expected from a brunch restaurant, the food is so delicious!\"\n",
    "\n",
    "inputs = tokenizer(new_review, return_tensors=\"pt\")\n",
    "outputs = model(**inputs)\n",
    "\n",
    "predictions = np.argmax(outputs.logits.detach().numpy(), axis=1)\n",
    "\n",
    "# 일반적으로 0은 \"부정\", 1은 \"긍정\"으로 표현\n",
    "print(\"새로운 리뷰 감정 예측:\", predictions[0])"
   ]
  },
  {
   "cell_type": "code",
   "execution_count": null,
   "id": "a039a2ec-3552-4256-9d72-fe3828aeaac9",
   "metadata": {},
   "outputs": [],
   "source": []
  }
 ],
 "metadata": {
  "kernelspec": {
   "display_name": "Python 3 (ipykernel)",
   "language": "python",
   "name": "python3"
  },
  "language_info": {
   "codemirror_mode": {
    "name": "ipython",
    "version": 3
   },
   "file_extension": ".py",
   "mimetype": "text/x-python",
   "name": "python",
   "nbconvert_exporter": "python",
   "pygments_lexer": "ipython3",
   "version": "3.11.5"
  }
 },
 "nbformat": 4,
 "nbformat_minor": 5
}
