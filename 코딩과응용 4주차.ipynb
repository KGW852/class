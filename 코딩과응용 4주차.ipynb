{
 "cells": [
  {
   "cell_type": "code",
   "execution_count": 1,
   "id": "365ece5d-b2af-4afc-8ec4-541f2e540ace",
   "metadata": {},
   "outputs": [],
   "source": [
    "import pandas as pd\n",
    "import numpy as np\n",
    "import os\n",
    "\n",
    "path = r'C:\\Users\\KGW\\OneDrive\\수업자료(학부)\\코딩과응용\\Python\\iris data'"
   ]
  },
  {
   "cell_type": "code",
   "execution_count": null,
   "id": "de082d56-fe12-4b3f-b599-7404f0beefbb",
   "metadata": {},
   "outputs": [],
   "source": [
    "# iris.data 파일을 pandas를 통해 csv파일로 불러오기\n",
    "# header=None 옵션은 파일에서 첫 번째 행을 열 이름으로 사용하지 않도록 사용\n",
    "iris = pd.read_csv(os.path.join(path, 'iris_data.csv'), header=None)\n",
    "iris.head()"
   ]
  },
  {
   "cell_type": "code",
   "execution_count": null,
   "id": "6bbd925a-fd46-4633-aeeb-9f580592c187",
   "metadata": {},
   "outputs": [],
   "source": [
    "print(pd.unique(iris[4]))\n",
    "\n",
    "# 요약 통계 확인하기\n",
    "print(iris[4].describe())"
   ]
  },
  {
   "cell_type": "code",
   "execution_count": null,
   "id": "2abf07da-e287-45d9-ad2b-de5b1cd1b15b",
   "metadata": {},
   "outputs": [],
   "source": [
    "# 열 이름을 '꽃 받침 길이', '꽃받침 너비', '꽃잎 길이', '꽃잎 너비', '꽃 종류'로 변경\n",
    "iris.columns =['sepal_length', 'sepal_width', 'petal_length', 'petal_width', 'class']\n",
    "\n",
    "# 변경된 열 이름 확인\n",
    "print(iris.head())\n",
    "print(iris.columns)"
   ]
  },
  {
   "cell_type": "code",
   "execution_count": null,
   "id": "28016af2-e95b-4331-89db-34ef95d9ee73",
   "metadata": {},
   "outputs": [],
   "source": [
    "# 'class' 열을 맨 앞으로 이동\n",
    "iris = iris.loc[:, ['class', *iris.columns[:-1]]]\n",
    "\n",
    "# 변경된 열 순서 확인\n",
    "print(iris.columns)"
   ]
  },
  {
   "cell_type": "code",
   "execution_count": null,
   "id": "31624ed8-fb3b-411c-9f61-82a329a6ae61",
   "metadata": {},
   "outputs": [],
   "source": [
    "# 'class' 열을 제거\n",
    "column = iris.pop('class')\n",
    "\n",
    "# 'class' 열을 맨 앞에 삽입\n",
    "iris.insert(0, 'class', column)\n",
    "\n",
    "# 변경된 열 순서 확인\n",
    "print(iris.columns)"
   ]
  },
  {
   "cell_type": "code",
   "execution_count": null,
   "id": "9138e438-5ed9-4bc6-8444-0fe51a67e94e",
   "metadata": {},
   "outputs": [],
   "source": [
    "# 'iris.csv'라는 이름으로 csv 파일을 저장합니다.\n",
    "iris.to_csv(os.path.join(path, 'iris.csv'), index=False)"
   ]
  },
  {
   "cell_type": "code",
   "execution_count": 4,
   "id": "69674059-3a36-479b-adbf-832ccab8b178",
   "metadata": {},
   "outputs": [
    {
     "name": "stdout",
     "output_type": "stream",
     "text": [
      "              class  sepal_length  sepal_width  petal_length  petal_width\n",
      "0       Iris-setosa           5.1          3.5           1.4          0.2\n",
      "1       Iris-setosa           4.9          3.0           1.4          0.2\n",
      "2       Iris-setosa           4.7          3.2           1.3          0.2\n",
      "3       Iris-setosa           4.6          3.1           1.5          0.2\n",
      "4       Iris-setosa           5.0          3.6           1.4          0.2\n",
      "..              ...           ...          ...           ...          ...\n",
      "145  Iris-virginica           6.7          3.0           5.2          2.3\n",
      "146  Iris-virginica           6.3          2.5           5.0          1.9\n",
      "147  Iris-virginica           6.5          3.0           5.2          2.0\n",
      "148  Iris-virginica           6.2          3.4           5.4          2.3\n",
      "149  Iris-virginica           5.9          3.0           5.1          1.8\n",
      "\n",
      "[150 rows x 5 columns]\n"
     ]
    }
   ],
   "source": [
    "iris = pd.read_csv(os.path.join(path, 'iris_data.csv'))\n",
    "print(iris[:])"
   ]
  },
  {
   "cell_type": "code",
   "execution_count": null,
   "id": "775f9bed-3d19-4867-8268-d434a7315e4b",
   "metadata": {},
   "outputs": [],
   "source": []
  }
 ],
 "metadata": {
  "kernelspec": {
   "display_name": "Python 3 (ipykernel)",
   "language": "python",
   "name": "python3"
  },
  "language_info": {
   "codemirror_mode": {
    "name": "ipython",
    "version": 3
   },
   "file_extension": ".py",
   "mimetype": "text/x-python",
   "name": "python",
   "nbconvert_exporter": "python",
   "pygments_lexer": "ipython3",
   "version": "3.11.5"
  }
 },
 "nbformat": 4,
 "nbformat_minor": 5
}
