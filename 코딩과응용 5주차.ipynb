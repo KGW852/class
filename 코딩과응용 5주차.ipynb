{
 "cells": [
  {
   "cell_type": "code",
   "execution_count": 1,
   "id": "5de29d9b-39a7-45df-8ff7-c7984510e06c",
   "metadata": {},
   "outputs": [],
   "source": [
    "import matplotlib.pyplot as plt\n",
    "import pandas as pd\n",
    "import numpy as np\n",
    "import os\n",
    "\n",
    "path = r'C:\\Users\\KGW\\OneDrive\\수업자료(학부)\\코딩과응용\\Python\\iris data'"
   ]
  },
  {
   "cell_type": "code",
   "execution_count": 8,
   "id": "960f7152-7fe9-42b5-9a90-3e3014b84385",
   "metadata": {},
   "outputs": [
    {
     "data": {
      "image/png": "[encoded data removed]",
      "text/plain": [
       "<Figure size 640x480 with 1 Axes>"
      ]
     },
     "metadata": {},
     "output_type": "display_data"
    }
   ],
   "source": [
    "# 산점도\n",
    "plt.scatter([1,2,3,4], [1,2,3,4])\n",
    "plt.show()"
   ]
  },
  {
   "cell_type": "code",
   "execution_count": 9,
   "id": "bc904c2d-f97c-4af3-b04d-55e126a32ff1",
   "metadata": {},
   "outputs": [
    {
     "data": {
      "image/png": "[encoded data removed]",
      "text/plain": [
       "<Figure size 640x480 with 1 Axes>"
      ]
     },
     "metadata": {},
     "output_type": "display_data"
    }
   ],
   "source": [
    "# 히스토그램\n",
    "plt.hist([0,3,5,6,7,7,9,13], bins=5)\n",
    "plt.show()"
   ]
  },
  {
   "cell_type": "code",
   "execution_count": null,
   "id": "309038de-bd13-41c7-a6af-e87cfdf3ebab",
   "metadata": {},
   "outputs": [],
   "source": [
    "# "
   ]
  },
  {
   "cell_type": "code",
   "execution_count": 2,
   "id": "786aff60-1a6d-47c6-85c0-4f0d9a99e2c6",
   "metadata": {},
   "outputs": [
    {
     "data": {
      "text/html": [
       "<div>\n",
       "<style scoped>\n",
       "    .dataframe tbody tr th:only-of-type {\n",
       "        vertical-align: middle;\n",
       "    }\n",
       "\n",
       "    .dataframe tbody tr th {\n",
       "        vertical-align: top;\n",
       "    }\n",
       "\n",
       "    .dataframe thead th {\n",
       "        text-align: right;\n",
       "    }\n",
       "</style>\n",
       "<table border=\"1\" class=\"dataframe\">\n",
       "  <thead>\n",
       "    <tr style=\"text-align: right;\">\n",
       "      <th></th>\n",
       "      <th>class</th>\n",
       "      <th>sepal_length</th>\n",
       "      <th>sepal_width</th>\n",
       "      <th>petal_length</th>\n",
       "      <th>petal_width</th>\n",
       "    </tr>\n",
       "  </thead>\n",
       "  <tbody>\n",
       "    <tr>\n",
       "      <th>0</th>\n",
       "      <td>Iris-setosa</td>\n",
       "      <td>5.1</td>\n",
       "      <td>3.5</td>\n",
       "      <td>1.4</td>\n",
       "      <td>0.2</td>\n",
       "    </tr>\n",
       "    <tr>\n",
       "      <th>1</th>\n",
       "      <td>Iris-setosa</td>\n",
       "      <td>4.9</td>\n",
       "      <td>3.0</td>\n",
       "      <td>1.4</td>\n",
       "      <td>0.2</td>\n",
       "    </tr>\n",
       "    <tr>\n",
       "      <th>2</th>\n",
       "      <td>Iris-setosa</td>\n",
       "      <td>4.7</td>\n",
       "      <td>3.2</td>\n",
       "      <td>1.3</td>\n",
       "      <td>0.2</td>\n",
       "    </tr>\n",
       "    <tr>\n",
       "      <th>3</th>\n",
       "      <td>Iris-setosa</td>\n",
       "      <td>4.6</td>\n",
       "      <td>3.1</td>\n",
       "      <td>1.5</td>\n",
       "      <td>0.2</td>\n",
       "    </tr>\n",
       "    <tr>\n",
       "      <th>4</th>\n",
       "      <td>Iris-setosa</td>\n",
       "      <td>5.0</td>\n",
       "      <td>3.6</td>\n",
       "      <td>1.4</td>\n",
       "      <td>0.2</td>\n",
       "    </tr>\n",
       "  </tbody>\n",
       "</table>\n",
       "</div>"
      ],
      "text/plain": [
       "         class  sepal_length  sepal_width  petal_length  petal_width\n",
       "0  Iris-setosa           5.1          3.5           1.4          0.2\n",
       "1  Iris-setosa           4.9          3.0           1.4          0.2\n",
       "2  Iris-setosa           4.7          3.2           1.3          0.2\n",
       "3  Iris-setosa           4.6          3.1           1.5          0.2\n",
       "4  Iris-setosa           5.0          3.6           1.4          0.2"
      ]
     },
     "execution_count": 2,
     "metadata": {},
     "output_type": "execute_result"
    }
   ],
   "source": [
    "# iris 데이터를 판다스로 불러옵니다.\n",
    "iris = pd.read_csv(os.path.join(path, 'iris_data.csv'))\n",
    "iris.head()"
   ]
  },
  {
   "cell_type": "code",
   "execution_count": 4,
   "id": "206fd0d7-8e3a-4628-ad94-841bfc562bd9",
   "metadata": {},
   "outputs": [
    {
     "name": "stdout",
     "output_type": "stream",
     "text": [
      "          class  sepal_length  sepal_width  petal_length  petal_width\n",
      "0   Iris-setosa           5.1          3.5           1.4          0.2\n",
      "1   Iris-setosa           4.9          3.0           1.4          0.2\n",
      "2   Iris-setosa           4.7          3.2           1.3          0.2\n",
      "3   Iris-setosa           4.6          3.1           1.5          0.2\n",
      "4   Iris-setosa           5.0          3.6           1.4          0.2\n",
      "5   Iris-setosa           5.4          3.9           1.7          0.4\n",
      "6   Iris-setosa           4.6          3.4           1.4          0.3\n",
      "7   Iris-setosa           5.0          3.4           1.5          0.2\n",
      "8   Iris-setosa           4.4          2.9           1.4          0.2\n",
      "9   Iris-setosa           4.9          3.1           1.5          0.1\n",
      "10  Iris-setosa           5.4          3.7           1.5          0.2\n",
      "11  Iris-setosa           4.8          3.4           1.6          0.2\n",
      "12  Iris-setosa           4.8          3.0           1.4          0.1\n",
      "13  Iris-setosa           4.3          3.0           1.1          0.1\n",
      "14  Iris-setosa           5.8          4.0           1.2          0.2\n",
      "15  Iris-setosa           5.7          4.4           1.5          0.4\n",
      "16  Iris-setosa           5.4          3.9           1.3          0.4\n",
      "17  Iris-setosa           5.1          3.5           1.4          0.3\n",
      "18  Iris-setosa           5.7          3.8           1.7          0.3\n",
      "19  Iris-setosa           5.1          3.8           1.5          0.3\n",
      "              class  sepal_length  sepal_width  petal_length  petal_width\n",
      "100  Iris-virginica           6.3          3.3           6.0          2.5\n",
      "101  Iris-virginica           5.8          2.7           5.1          1.9\n",
      "102  Iris-virginica           7.1          3.0           5.9          2.1\n",
      "103  Iris-virginica           6.3          2.9           5.6          1.8\n",
      "104  Iris-virginica           6.5          3.0           5.8          2.2\n",
      "105  Iris-virginica           7.6          3.0           6.6          2.1\n",
      "106  Iris-virginica           4.9          2.5           4.5          1.7\n",
      "107  Iris-virginica           7.3          2.9           6.3          1.8\n",
      "108  Iris-virginica           6.7          2.5           5.8          1.8\n",
      "109  Iris-virginica           7.2          3.6           6.1          2.5\n",
      "110  Iris-virginica           6.5          3.2           5.1          2.0\n",
      "111  Iris-virginica           6.4          2.7           5.3          1.9\n",
      "112  Iris-virginica           6.8          3.0           5.5          2.1\n",
      "113  Iris-virginica           5.7          2.5           5.0          2.0\n",
      "114  Iris-virginica           5.8          2.8           5.1          2.4\n",
      "115  Iris-virginica           6.4          3.2           5.3          2.3\n",
      "116  Iris-virginica           6.5          3.0           5.5          1.8\n",
      "117  Iris-virginica           7.7          3.8           6.7          2.2\n",
      "118  Iris-virginica           7.7          2.6           6.9          2.3\n",
      "119  Iris-virginica           6.0          2.2           5.0          1.5\n"
     ]
    }
   ],
   "source": [
    "# 1~20행, 100행~120행 데이터 출력\n",
    "print(iris[:20])\n",
    "print(iris[100:120])"
   ]
  },
  {
   "cell_type": "code",
   "execution_count": 5,
   "id": "24207d06-d3f9-472b-90cf-d982529a5222",
   "metadata": {},
   "outputs": [
    {
     "name": "stdout",
     "output_type": "stream",
     "text": [
      "100    6.0\n",
      "101    5.1\n",
      "102    5.9\n",
      "103    5.6\n",
      "104    5.8\n",
      "105    6.6\n",
      "106    4.5\n",
      "107    6.3\n",
      "108    5.8\n",
      "109    6.1\n",
      "110    5.1\n",
      "111    5.3\n",
      "112    5.5\n",
      "113    5.0\n",
      "114    5.1\n",
      "115    5.3\n",
      "116    5.5\n",
      "117    6.7\n",
      "118    6.9\n",
      "119    5.0\n",
      "Name: petal_length, dtype: float64\n"
     ]
    }
   ],
   "source": [
    "# 'virginica'개체의 1~20행 petal_length 값을 추출합니다.\n",
    "virginica_petal_length = iris.loc[iris['class'] == 'Iris-virginica', 'petal_length'].iloc[:20]\n",
    "print(virginica_petal_length)"
   ]
  },
  {
   "cell_type": "code",
   "execution_count": 6,
   "id": "2f650fd0-5af6-46d4-949f-29029eacd9c9",
   "metadata": {},
   "outputs": [
    {
     "name": "stdout",
     "output_type": "stream",
     "text": [
      "[1.4 1.4 1.3 1.5 1.4 1.7 1.4 1.5 1.4 1.5 1.5 1.6 1.4 1.1 1.2 1.5 1.3 1.4\n",
      " 1.7 1.5]\n",
      "[0.2 0.2 0.2 0.2 0.2 0.4 0.3 0.2 0.2 0.1 0.2 0.2 0.1 0.1 0.2 0.4 0.4 0.3\n",
      " 0.3 0.3]\n",
      "[6.  5.1 5.9 5.6 5.8 6.6 4.5 6.3 5.8 6.1 5.1 5.3 5.5 5.  5.1 5.3 5.5 6.7\n",
      " 6.9 5. ]\n",
      "[2.5 1.9 2.1 1.8 2.2 2.1 1.7 1.8 1.8 2.5 2.  1.9 2.1 2.  2.4 2.3 1.8 2.2\n",
      " 2.3 1.5]\n"
     ]
    }
   ],
   "source": [
    "# 'setosa', 'virginica'클래스의 1~20행 'petal' 값을 추출합니다.\n",
    "setosa_petal_length = iris.loc[iris['class'] == 'Iris-setosa', 'petal_length'].iloc[:20].to_numpy()\n",
    "setosa_petal_width = iris.loc[iris['class'] == 'Iris-setosa', 'petal_width'].iloc[:20].to_numpy()\n",
    "virginica_petal_length = iris.loc[iris['class'] == 'Iris-virginica', 'petal_length'].iloc[:20].to_numpy()\n",
    "virginica_petal_width = iris.loc[iris['class'] == 'Iris-virginica', 'petal_width'].iloc[:20].to_numpy()\n",
    "\n",
    "# 추출된 값 확인\n",
    "print(setosa_petal_length)\n",
    "print(setosa_petal_width)\n",
    "print(virginica_petal_length)\n",
    "print(virginica_petal_width)"
   ]
  },
  {
   "cell_type": "code",
   "execution_count": 9,
   "id": "8cebb52b-5c4b-436a-8bd4-f0706c8c0b7f",
   "metadata": {},
   "outputs": [
    {
     "data": {
      "image/png": "[encoded data removed]",
      "text/plain": [
       "<Figure size 640x480 with 1 Axes>"
      ]
     },
     "metadata": {},
     "output_type": "display_data"
    }
   ],
   "source": [
    "# 'setosa', 'virginica'의 x축 length, y축 width로 산점도 그리기.\n",
    "plt.scatter(setosa_petal_length, setosa_petal_width)\n",
    "plt.scatter(virginica_petal_length, virginica_petal_width)\n",
    "plt.xlabel('length')\n",
    "plt.ylabel('width')\n",
    "plt.title('setosa virginica scatter')\n",
    "plt.show()"
   ]
  },
  {
   "cell_type": "code",
   "execution_count": 8,
   "id": "45b6ee8d-80bc-4dfa-80e6-a7f9ad8c0878",
   "metadata": {},
   "outputs": [
    {
     "data": {
      "image/png": "[encoded data removed]",
      "text/plain": [
       "<Figure size 640x480 with 1 Axes>"
      ]
     },
     "metadata": {},
     "output_type": "display_data"
    }
   ],
   "source": [
    "# 'setosa_petal_length'의 히스토그램 그리기.\n",
    "plt.hist(setosa_petal_length, bins=10)\n",
    "plt.show()"
   ]
  },
  {
   "cell_type": "code",
   "execution_count": null,
   "id": "b955a7a3-5474-4897-b55d-f441d143ee4d",
   "metadata": {},
   "outputs": [],
   "source": [
    "# 기본적인 선그래프 포멧\n",
    "x = [1, ...]\n",
    "y = [1, ...]\n",
    "\n",
    "plt.plot(x, y)\n",
    "plt.xlabel('x')\n",
    "plt.ylabel('y')\n",
    "plt.title('title')\n",
    "plt.show()"
   ]
  },
  {
   "cell_type": "code",
   "execution_count": null,
   "id": "adf4e0ca-0ed4-42f7-8242-840793a0325d",
   "metadata": {},
   "outputs": [],
   "source": [
    "# 기본적인 산점도 포멧\n",
    "x = [1, ...]\n",
    "y = [1, ...]\n",
    "\n",
    "plt.scatter(x, y)\n",
    "plt.xlabel('x')\n",
    "plt.ylabel('y')\n",
    "plt.title('title')\n",
    "plt.show()"
   ]
  },
  {
   "cell_type": "code",
   "execution_count": null,
   "id": "e96d152d-f521-43de-a9de-2e4b951bb56a",
   "metadata": {
    "scrolled": true
   },
   "outputs": [],
   "source": [
    "# 기본적인 히스토그램 포멧\n",
    "x = [1, ...]\n",
    "\n",
    "plt.hist(x, bins=5) # bins 파라미터를 통해 히스토그램의 해상도 결정\n",
    "                    # bins 파라미터를 통해 데이터 값의 범위를 나누는 구간의 개수를 설정\n",
    "plt.show()"
   ]
  },
  {
   "cell_type": "code",
   "execution_count": null,
   "id": "98121df7-bd4e-4b80-a4c9-1d8d21cd9845",
   "metadata": {},
   "outputs": [],
   "source": []
  }
 ],
 "metadata": {
  "kernelspec": {
   "display_name": "Python 3 (ipykernel)",
   "language": "python",
   "name": "python3"
  },
  "language_info": {
   "codemirror_mode": {
    "name": "ipython",
    "version": 3
   },
   "file_extension": ".py",
   "mimetype": "text/x-python",
   "name": "python",
   "nbconvert_exporter": "python",
   "pygments_lexer": "ipython3",
   "version": "3.11.5"
  },
  "widgets": {
   "application/vnd.jupyter.widget-state+json": {
    "state": {},
    "version_major": 2,
    "version_minor": 0
   }
  }
 },
 "nbformat": 4,
 "nbformat_minor": 5
}
